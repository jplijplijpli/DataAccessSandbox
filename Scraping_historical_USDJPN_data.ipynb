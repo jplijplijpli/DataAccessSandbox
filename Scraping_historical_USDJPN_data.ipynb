{
 "cells": [
  {
   "cell_type": "code",
   "execution_count": 1,
   "metadata": {
    "collapsed": false
   },
   "outputs": [
    {
     "name": "stdout",
     "output_type": "stream",
     "text": [
      "https://info.finance.yahoo.co.jp/history/?code=USDJPY=X\n",
      "              Open    High     Low   Close\n",
      "Date                                      \n",
      "2017-05-01  111.29  111.92  111.18  111.83\n",
      "2017-05-02  111.83  112.30  111.75  111.96\n",
      "2017-05-03  111.98  112.77  111.93  112.73\n",
      "2017-05-04  112.73  113.04  112.29  112.45\n",
      "2017-05-05  112.44  112.81  112.06  112.71\n",
      "              Open    High     Low   Close\n",
      "Date                                      \n",
      "2017-05-22  111.30  111.60  110.87  111.27\n",
      "2017-05-23  111.29  111.85  110.84  111.77\n",
      "2017-05-24  111.75  112.11  111.45  111.49\n",
      "2017-05-25  111.47  111.94  111.46  111.82\n",
      "2017-05-26  111.82  111.86  110.85  111.31\n"
     ]
    }
   ],
   "source": [
    "# coding: utf-8\n",
    "import numpy as np\n",
    "import pandas as pd\n",
    "import pandas_datareader as web\n",
    "import datetime\n",
    "import html5lib\n",
    "import os\n",
    "\n",
    "def get_USDJPY():\n",
    "    url = 'https://info.finance.yahoo.co.jp/history/?code=USDJPY=X'\n",
    "    results = []\n",
    "\n",
    "    print (url)\n",
    "    tables = pd.read_html(url, header=0)\n",
    "    results.append(tables[1])\n",
    "    result = pd.concat(results, ignore_index=True)\n",
    "    result.columns = ['Date', 'Open', 'High', 'Low', 'Close']\n",
    "\n",
    "    result['Date'] = pd.to_datetime(result['Date'], format='%Y年%m月%d日')\n",
    "    result = result.set_index('Date')\n",
    "    result = result.sort_index()\n",
    "    return result \n",
    "\n",
    "if __name__ == '__main__':\n",
    "        \n",
    "    df = get_USDJPY()\n",
    "\n",
    "    print(df.head())\n",
    "    print(df.tail())"
   ]
  },
  {
   "cell_type": "code",
   "execution_count": null,
   "metadata": {
    "collapsed": true
   },
   "outputs": [],
   "source": []
  }
 ],
 "metadata": {
  "kernelspec": {
   "display_name": "Python 3",
   "language": "python",
   "name": "python3"
  },
  "language_info": {
   "codemirror_mode": {
    "name": "ipython",
    "version": 3
   },
   "file_extension": ".py",
   "mimetype": "text/x-python",
   "name": "python",
   "nbconvert_exporter": "python",
   "pygments_lexer": "ipython3",
   "version": "3.6.0"
  }
 },
 "nbformat": 4,
 "nbformat_minor": 2
}
