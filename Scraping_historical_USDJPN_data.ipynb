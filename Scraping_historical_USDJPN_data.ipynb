{
 "cells": [
  {
   "cell_type": "code",
   "execution_count": 8,
   "metadata": {
    "collapsed": false
   },
   "outputs": [
    {
     "name": "stdout",
     "output_type": "stream",
     "text": [
      "http://www.myfxbook.com/forex-market/currencies/USDJPY-historical-data\n",
      "                       Open     High      Low    Close  Change (Pips)  \\\n",
      "Date                                                                    \n",
      "May 25, 2017 21:00  111.821  111.853  110.879  111.305          -51.6   \n",
      "May 24, 2017 21:00  111.479  111.952  111.479  111.821           34.2   \n",
      "May 23, 2017 21:00  111.777  112.128  111.477  111.477          -30.0   \n",
      "May 22, 2017 21:00  111.291  111.860  110.863  111.779           48.8   \n",
      "May 21, 2017 21:00  111.019  111.607  110.932  111.290           27.1   \n",
      "\n",
      "                   Change (%)  \n",
      "Date                           \n",
      "May 25, 2017 21:00     -0.46%  \n",
      "May 24, 2017 21:00     +0.31%  \n",
      "May 23, 2017 21:00     -0.27%  \n",
      "May 22, 2017 21:00     +0.44%  \n",
      "May 21, 2017 21:00     +0.24%  \n",
      "                       Open     High      Low    Close  Change (Pips)  \\\n",
      "Date                                                                    \n",
      "Jan 12, 2017 21:00  114.690  115.442  114.150  114.488          -20.2   \n",
      "Jan 11, 2017 21:00  115.412  115.512  113.757  114.685          -72.7   \n",
      "Jan 10, 2017 21:00  115.750  116.873  114.242  115.408          -34.2   \n",
      "Jan 09, 2017 21:00  116.008  116.344  115.196  115.748          -26.0   \n",
      "Jan 08, 2017 21:00  117.016  117.530  115.951  116.010         -100.6   \n",
      "\n",
      "                   Change (%)  \n",
      "Date                           \n",
      "Jan 12, 2017 21:00     -0.18%  \n",
      "Jan 11, 2017 21:00     -0.63%  \n",
      "Jan 10, 2017 21:00     -0.30%  \n",
      "Jan 09, 2017 21:00     -0.22%  \n",
      "Jan 08, 2017 21:00     -0.87%  \n"
     ]
    }
   ],
   "source": [
    "# coding: utf-8\n",
    "import numpy as np\n",
    "import pandas as pd\n",
    "import pandas_datareader as web\n",
    "import datetime\n",
    "import html5lib\n",
    "import os\n",
    "\n",
    "def get_USDJPY():\n",
    "    url = 'http://www.myfxbook.com/forex-market/currencies/USDJPY-historical-data'\n",
    "    results = []  \n",
    "    print (url)\n",
    "    tables = pd.read_html(url, header=0)\n",
    "    results.append(tables[3])\n",
    "    result = pd.concat(results, ignore_index=True)\n",
    "    result = result.set_index('Date')\n",
    "    return result\n",
    "\n",
    "if __name__ == '__main__':\n",
    "        \n",
    "    df = get_USDJPY()\n",
    "\n",
    "    print(df.head())\n",
    "    print(df.tail())"
   ]
  },
  {
   "cell_type": "code",
   "execution_count": null,
   "metadata": {
    "collapsed": true
   },
   "outputs": [],
   "source": []
  }
 ],
 "metadata": {
  "kernelspec": {
   "display_name": "Python 3",
   "language": "python",
   "name": "python3"
  },
  "language_info": {
   "codemirror_mode": {
    "name": "ipython",
    "version": 3
   },
   "file_extension": ".py",
   "mimetype": "text/x-python",
   "name": "python",
   "nbconvert_exporter": "python",
   "pygments_lexer": "ipython3",
   "version": "3.6.0"
  }
 },
 "nbformat": 4,
 "nbformat_minor": 2
}
