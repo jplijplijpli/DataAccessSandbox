{
 "cells": [
  {
   "cell_type": "code",
   "execution_count": 12,
   "metadata": {
    "collapsed": false
   },
   "outputs": [
    {
     "name": "stdout",
     "output_type": "stream",
     "text": [
      "http://finance.google.com/finance/info?client=ig&q=INDEXNIKKEI:NI225\n",
      "[\n",
      "  {\n",
      "    \"ID\": \"15513676\",\n",
      "    \"StockSymbol\": \"NI225\",\n",
      "    \"Index\": \"INDEXNIKKEI\",\n",
      "    \"LastTradePrice\": \"19,686.84\",\n",
      "    \"LastTradeWithCurrency\": \"$19,686.84\",\n",
      "    \"LastTradeTime\": \"3:15PM GMT+9\",\n",
      "    \"LastTradeDateTime\": \"2017-05-26T15:15:02Z\",\n",
      "    \"LastTradeDateTimeLong\": \"May 26, 3:15PM GMT+9\"\n",
      "  }\n",
      "]\n"
     ]
    }
   ],
   "source": [
    "#from urllib2 import Request, urlopen\n",
    "import urllib.request\n",
    "import json\n",
    "import sys\n",
    "\n",
    "__author__ = 'Hongtao Cai'\n",
    "\n",
    "googleFinanceKeyToFullName = {\n",
    "    u'id'     : u'ID',\n",
    "    u't'      : u'StockSymbol',\n",
    "    u'e'      : u'Index',\n",
    "    u'l'      : u'LastTradePrice',\n",
    "    u'l_cur'  : u'LastTradeWithCurrency',\n",
    "    u'ltt'    : u'LastTradeTime',\n",
    "    u'lt_dts' : u'LastTradeDateTime',\n",
    "    u'lt'     : u'LastTradeDateTimeLong',\n",
    "    u'div'    : u'Dividend',\n",
    "    u'yld'    : u'Yield'\n",
    "}\n",
    "\n",
    "def buildUrl(symbols):\n",
    "    symbol_list = ','.join([symbol for symbol in symbols])\n",
    "    # a deprecated but still active & correct api\n",
    "    return 'http://finance.google.com/finance/info?client=ig&q=' \\\n",
    "        + symbol_list\n",
    "\n",
    "def request(symbols):\n",
    "    url = buildUrl(symbols)\n",
    "    #req = Request(url)\n",
    "    #resp = urlopen(req)\n",
    "    print(url)\n",
    "    resp = urllib.request.urlopen(url)\n",
    "    content = resp.read().decode().strip()\n",
    "    content = content[3:]\n",
    "    return content\n",
    "\n",
    "def replaceKeys(quotes):\n",
    "    global googleFinanceKeyToFullName\n",
    "    quotesWithReadableKey = []\n",
    "    for q in quotes:\n",
    "        qReadableKey = {}\n",
    "        for k in googleFinanceKeyToFullName:\n",
    "            if k in q:\n",
    "                qReadableKey[googleFinanceKeyToFullName[k]] = q[k]\n",
    "        quotesWithReadableKey.append(qReadableKey)\n",
    "    return quotesWithReadableKey\n",
    "\n",
    "def getQuotes(symbols):\n",
    "    '''\n",
    "    get real-time quotes (index, last trade price, last trade time, etc) for stocks, using google api: http://finance.google.com/finance/info?client=ig&q=symbols\n",
    "\n",
    "    Unlike python package 'yahoo-finance' (15 min delay), There is no delay for NYSE and NASDAQ stocks in 'googlefinance' package.\n",
    "    \n",
    "    example:\n",
    "    quotes = getQuotes('AAPL')\n",
    "    return:\n",
    "    [{u'Index': u'NASDAQ', u'LastTradeWithCurrency': u'129.09', u'LastTradeDateTime': u'2015-03-02T16:04:29Z', u'LastTradePrice': u'129.09', u'Yield': u'1.46', u'LastTradeTime': u'4:04PM EST', u'LastTradeDateTimeLong': u'Mar 2, 4:04PM EST', u'Dividend': u'0.47', u'StockSymbol': u'AAPL', u'ID': u'22144'}]\n",
    "    \n",
    "    quotes = getQuotes(['AAPL', 'GOOG'])\n",
    "    return:\n",
    "    [{u'Index': u'NASDAQ', u'LastTradeWithCurrency': u'129.09', u'LastTradeDateTime': u'2015-03-02T16:04:29Z', u'LastTradePrice': u'129.09', u'Yield': u'1.46', u'LastTradeTime': u'4:04PM EST', u'LastTradeDateTimeLong': u'Mar 2, 4:04PM EST', u'Dividend': u'0.47', u'StockSymbol': u'AAPL', u'ID': u'22144'}, {u'Index': u'NASDAQ', u'LastTradeWithCurrency': u'571.34', u'LastTradeDateTime': u'2015-03-02T16:04:29Z', u'LastTradePrice': u'571.34', u'Yield': u'', u'LastTradeTime': u'4:04PM EST', u'LastTradeDateTimeLong': u'Mar 2, 4:04PM EST', u'Dividend': u'', u'StockSymbol': u'GOOG', u'ID': u'304466804484872'}]\n",
    "    \n",
    "    :param symbols: a single symbol or a list of stock symbols\n",
    "    :return: real-time quotes list\n",
    "    '''\n",
    "    if type(symbols) == type('str'):\n",
    "        symbols = [symbols]\n",
    "    content = json.loads(request(symbols))\n",
    "    return replaceKeys(content);\n",
    "\n",
    "if __name__ == '__main__':\n",
    "    try:\n",
    "        #symbols = sys.argv[1]\n",
    "        symbols = \"INDEXNIKKEI:NI225\"\n",
    "    except:\n",
    "        symbols = \"GOOG,AAPL\"\n",
    "\n",
    "    symbols = symbols.split(',')\n",
    "\n",
    "    try:\n",
    "        print(json.dumps(getQuotes(symbols), indent=2))\n",
    "    except:\n",
    "        print(\"Fail\")\n"
   ]
  },
  {
   "cell_type": "code",
   "execution_count": null,
   "metadata": {
    "collapsed": true
   },
   "outputs": [],
   "source": []
  }
 ],
 "metadata": {
  "kernelspec": {
   "display_name": "Python 3",
   "language": "python",
   "name": "python3"
  },
  "language_info": {
   "codemirror_mode": {
    "name": "ipython",
    "version": 3
   },
   "file_extension": ".py",
   "mimetype": "text/x-python",
   "name": "python",
   "nbconvert_exporter": "python",
   "pygments_lexer": "ipython3",
   "version": "3.6.0"
  }
 },
 "nbformat": 4,
 "nbformat_minor": 2
}
