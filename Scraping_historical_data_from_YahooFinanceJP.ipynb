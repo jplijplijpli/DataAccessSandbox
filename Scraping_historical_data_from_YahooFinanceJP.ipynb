{
 "cells": [
  {
   "cell_type": "code",
   "execution_count": 2,
   "metadata": {
    "collapsed": false
   },
   "outputs": [
    {
     "name": "stdout",
     "output_type": "stream",
     "text": [
      "http://info.finance.yahoo.co.jp/history/?code=7203.T&sy=2017&sm=1&sd=1&ey=2017&em=5&ed=28&tm=d&p=1\n",
      "http://info.finance.yahoo.co.jp/history/?code=7203.T&sy=2017&sm=1&sd=1&ey=2017&em=5&ed=28&tm=d&p=2\n",
      "http://info.finance.yahoo.co.jp/history/?code=7203.T&sy=2017&sm=1&sd=1&ey=2017&em=5&ed=28&tm=d&p=3\n",
      "http://info.finance.yahoo.co.jp/history/?code=7203.T&sy=2017&sm=1&sd=1&ey=2017&em=5&ed=28&tm=d&p=4\n",
      "http://info.finance.yahoo.co.jp/history/?code=7203.T&sy=2017&sm=1&sd=1&ey=2017&em=5&ed=28&tm=d&p=5\n",
      "http://info.finance.yahoo.co.jp/history/?code=7203.T&sy=2017&sm=1&sd=1&ey=2017&em=5&ed=28&tm=d&p=6\n",
      "            Open  High   Low  Close    Volume  Adj Close\n",
      "Date                                                    \n",
      "2017-01-04  7010  7103  6975   7097   9547600       7097\n",
      "2017-01-05  7090  7091  7023   7049   7644000       7049\n",
      "2017-01-06  6840  6948  6830   6930  11586100       6930\n",
      "2017-01-10  6922  6958  6861   6861   8931100       6861\n",
      "2017-01-11  6899  6924  6875   6912   6605300       6912\n",
      "            Open  High   Low  Close   Volume  Adj Close\n",
      "Date                                                   \n",
      "2017-05-22  5985  6023  5962   5997  4445800       5997\n",
      "2017-05-23  5979  6011  5961   6000  4217200       6000\n",
      "2017-05-24  6051  6051  5987   6001  4582400       6001\n",
      "2017-05-25  5967  6012  5955   5985  4717200       5985\n",
      "2017-05-26  5985  5997  5940   5941  5672400       5941\n"
     ]
    }
   ],
   "source": [
    "# coding: utf-8\n",
    "import numpy as np\n",
    "import pandas as pd\n",
    "import pandas_datareader as web\n",
    "import datetime\n",
    "import html5lib\n",
    "\n",
    "def get_quote_yahoojp(code, start=None, end=None, interval='d'):\n",
    "    base = 'http://info.finance.yahoo.co.jp/history/?code={0}.T&{1}&{2}&tm={3}&p={4}'\n",
    "    start = 'sy={0}&sm={1}&sd={2}'.format(start.year, start.month, start.day)\n",
    "    end = 'ey={0}&em={1}&ed={2}'.format(end.year, end.month, end.day)\n",
    "    p = 1\n",
    "    results = []\n",
    "\n",
    "    if interval not in ['d', 'w', 'm', 'v']:\n",
    "        raise ValueError(\"Invalid interval: valid values are 'd', 'w', 'm' and 'v'\")\n",
    "\n",
    "    while True:\n",
    "        url = base.format(code, start, end, interval, p)\n",
    "        print (url)\n",
    "        tables = pd.read_html(url, header=0)\n",
    "        if len(tables) < 2 or len(tables[1]) == 0:\n",
    "            break\n",
    "        results.append(tables[1])\n",
    "        p += 1\n",
    "    result = pd.concat(results, ignore_index=True)\n",
    "\n",
    "    result.columns = ['Date', 'Open', 'High', 'Low', 'Close', 'Volume', 'Adj Close']\n",
    "    if interval == 'm':\n",
    "        result['Date'] = pd.to_datetime(result['Date'], format='%Y年%m月')\n",
    "    else:\n",
    "        result['Date'] = pd.to_datetime(result['Date'], format='%Y年%m月%d日')\n",
    "    result = result.set_index('Date')\n",
    "    result = result.sort_index()\n",
    "    return result\n",
    "\n",
    "if __name__ == '__main__':\n",
    "    start = datetime.datetime(2017, 1, 1)\n",
    "    end = datetime.date.today()\n",
    "    \n",
    "    df = get_quote_yahoojp(7203, start=start, end=end)\n",
    "    \n",
    "    print(df.head())\n",
    "    print(df.tail())\n"
   ]
  },
  {
   "cell_type": "code",
   "execution_count": null,
   "metadata": {
    "collapsed": true
   },
   "outputs": [],
   "source": []
  },
  {
   "cell_type": "code",
   "execution_count": null,
   "metadata": {
    "collapsed": true
   },
   "outputs": [],
   "source": []
  }
 ],
 "metadata": {
  "kernelspec": {
   "display_name": "Python 3",
   "language": "python",
   "name": "python3"
  },
  "language_info": {
   "codemirror_mode": {
    "name": "ipython",
    "version": 3
   },
   "file_extension": ".py",
   "mimetype": "text/x-python",
   "name": "python",
   "nbconvert_exporter": "python",
   "pygments_lexer": "ipython3",
   "version": "3.6.0"
  }
 },
 "nbformat": 4,
 "nbformat_minor": 2
}
