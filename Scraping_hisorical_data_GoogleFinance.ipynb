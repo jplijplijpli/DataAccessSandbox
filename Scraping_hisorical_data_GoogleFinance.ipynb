{
 "cells": [
  {
   "cell_type": "code",
   "execution_count": 13,
   "metadata": {
    "collapsed": false
   },
   "outputs": [
    {
     "name": "stdout",
     "output_type": "stream",
     "text": [
      "https://www.google.com/finance/historical?q=NASDAQ:AAPL&startdate=JAN+1%2C+2017&start=0&num=1000\n",
      "https://www.google.com/finance/historical?q=NASDAQ:AAPL&startdate=JAN+1%2C+2017&start=1000&num=1000\n",
      "                Open    High     Low   Close    Volume\n",
      "Date                                                  \n",
      "May 26, 2017  154.00  154.24  153.31  153.61  21927637\n",
      "May 25, 2017  153.73  154.35  153.03  153.87  19235598\n",
      "May 24, 2017  153.84  154.17  152.67  153.34  19219154\n",
      "May 23, 2017  154.90  154.90  153.31  153.80  19918871\n",
      "May 22, 2017  154.00  154.58  152.91  153.99  22966437\n",
      "               Open    High     Low   Close    Volume\n",
      "Date                                                 \n",
      "Jan 9, 2017  117.95  119.43  117.94  118.99  33561948\n",
      "Jan 6, 2017  116.78  118.16  116.47  117.91  31751900\n",
      "Jan 5, 2017  115.92  116.86  115.81  116.61  22193587\n",
      "Jan 4, 2017  115.85  116.51  115.75  116.02  21118116\n",
      "Jan 3, 2017  115.80  116.33  114.76  116.15  28781865\n"
     ]
    }
   ],
   "source": [
    "# coding: utf-8\n",
    "import numpy as np\n",
    "import pandas as pd\n",
    "import pandas_datareader as web\n",
    "import datetime\n",
    "import html5lib\n",
    "import os\n",
    "\n",
    "def get_googlefin(code, start_month, start_day, start_year):\n",
    "    base = 'https://www.google.com/finance/historical?q={0}&startdate={1}+{2}%2C+{3}&start={4}&num={5}'\n",
    "    start = 0\n",
    "    num = 1000\n",
    "    results = []\n",
    "    \n",
    "    while True:\n",
    "        url = base.format(code, start_month, start_day, start_year, start, num)\n",
    "        print (url)\n",
    "        tables = pd.read_html(url, header=0)\n",
    "        if len(tables) < 3 or len(tables[2]) == 0:\n",
    "            break\n",
    "        results.append(tables[2])\n",
    "        start += num\n",
    "    result = pd.concat(results, ignore_index=True)\n",
    "\n",
    "    result.columns = ['Date', 'Open', 'High', 'Low', 'Close', 'Volume']\n",
    "    result = result.set_index('Date')\n",
    "    return result\n",
    "\n",
    "if __name__ == '__main__':\n",
    "        \n",
    "    #df = get_googlefin('NASDAQ:AAPL', 'JAN', 1, 2017)\n",
    "    df = get_googlefin('INDEXNIKKEI:NI225', 'JAN', 1, 2017)\n",
    "\n",
    "    print(df.head())\n",
    "    print(df.tail())"
   ]
  },
  {
   "cell_type": "code",
   "execution_count": null,
   "metadata": {
    "collapsed": true
   },
   "outputs": [],
   "source": []
  }
 ],
 "metadata": {
  "kernelspec": {
   "display_name": "Python 3",
   "language": "python",
   "name": "python3"
  },
  "language_info": {
   "codemirror_mode": {
    "name": "ipython",
    "version": 3
   },
   "file_extension": ".py",
   "mimetype": "text/x-python",
   "name": "python",
   "nbconvert_exporter": "python",
   "pygments_lexer": "ipython3",
   "version": "3.6.0"
  }
 },
 "nbformat": 4,
 "nbformat_minor": 2
}
